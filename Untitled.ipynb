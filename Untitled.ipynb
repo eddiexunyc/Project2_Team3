{
 "cells": [
  {
   "cell_type": "code",
   "execution_count": 1,
   "metadata": {},
   "outputs": [
    {
     "name": "stdout",
     "output_type": "stream",
     "text": [
      "Collecting npm\n",
      "  Downloading npm-0.1.1.tar.gz (2.5 kB)\n",
      "Collecting optional-django==0.1.0\n",
      "  Downloading optional-django-0.1.0.tar.gz (9.5 kB)\n",
      "Building wheels for collected packages: npm, optional-django\n",
      "  Building wheel for npm (setup.py): started\n",
      "  Building wheel for npm (setup.py): finished with status 'done'\n",
      "  Created wheel for npm: filename=npm-0.1.1-py3-none-any.whl size=3714 sha256=9104d7db115268477e28f9153f9b0b6cde7f9caca53cafd6ab48d81575b29bbd\n",
      "  Stored in directory: c:\\users\\ptsai\\appdata\\local\\pip\\cache\\wheels\\58\\a3\\b3\\b2683df5d56077bd771d87e86f8fe099caf6544ac9c4158001\n",
      "  Building wheel for optional-django (setup.py): started\n",
      "  Building wheel for optional-django (setup.py): finished with status 'done'\n",
      "  Created wheel for optional-django: filename=optional_django-0.1.0-py3-none-any.whl size=9986 sha256=c93d1d53aad059b4abd98cc71585aab2f56f46a76d9a1d855b616939405dc18f\n",
      "  Stored in directory: c:\\users\\ptsai\\appdata\\local\\pip\\cache\\wheels\\3b\\42\\9c\\10c5c4021a4edf8416f18e88b427b92e99f187e61e15e08100\n",
      "Successfully built npm optional-django\n",
      "Installing collected packages: optional-django, npm\n",
      "Successfully installed npm-0.1.1 optional-django-0.1.0\n"
     ]
    }
   ],
   "source": [
    "!pip install npm"
   ]
  },
  {
   "cell_type": "code",
   "execution_count": 2,
   "metadata": {},
   "outputs": [
    {
     "ename": "SyntaxError",
     "evalue": "invalid syntax (<ipython-input-2-05df1f133059>, line 1)",
     "output_type": "error",
     "traceback": [
      "\u001b[1;36m  File \u001b[1;32m\"<ipython-input-2-05df1f133059>\"\u001b[1;36m, line \u001b[1;32m1\u001b[0m\n\u001b[1;33m    npm install chart.js --save\u001b[0m\n\u001b[1;37m        ^\u001b[0m\n\u001b[1;31mSyntaxError\u001b[0m\u001b[1;31m:\u001b[0m invalid syntax\n"
     ]
    }
   ],
   "source": [
    "npm install chart.js --save"
   ]
  },
  {
   "cell_type": "code",
   "execution_count": null,
   "metadata": {},
   "outputs": [],
   "source": []
  }
 ],
 "metadata": {
  "kernelspec": {
   "display_name": "Python 3",
   "language": "python",
   "name": "python3"
  },
  "language_info": {
   "codemirror_mode": {
    "name": "ipython",
    "version": 3
   },
   "file_extension": ".py",
   "mimetype": "text/x-python",
   "name": "python",
   "nbconvert_exporter": "python",
   "pygments_lexer": "ipython3",
   "version": "3.8.3"
  }
 },
 "nbformat": 4,
 "nbformat_minor": 4
}
